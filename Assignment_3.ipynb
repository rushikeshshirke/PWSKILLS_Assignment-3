{
 "cells": [
  {
   "cell_type": "code",
   "execution_count": 5,
   "id": "9acccd0b-cdef-4933-92ae-dd54ce0fb5c1",
   "metadata": {},
   "outputs": [
    {
     "name": "stdin",
     "output_type": "stream",
     "text": [
      "Enter percentage 87\n"
     ]
    },
    {
     "name": "stdout",
     "output_type": "stream",
     "text": [
      "B\n"
     ]
    }
   ],
   "source": [
    "# Q1.\n",
    "p = int(input('Enter percentage'))\n",
    "\n",
    "if p>90:\n",
    "    print('A')\n",
    "elif p>80:\n",
    "    print('B')\n",
    "elif p>=60:\n",
    "    print('C')\n",
    "else:\n",
    "    print('D')"
   ]
  },
  {
   "cell_type": "code",
   "execution_count": 6,
   "id": "cdc4bed1-5393-40c3-a647-7ef8ca115256",
   "metadata": {},
   "outputs": [
    {
     "name": "stdin",
     "output_type": "stream",
     "text": [
      "Enter price of bike 75000\n"
     ]
    },
    {
     "name": "stdout",
     "output_type": "stream",
     "text": [
      "Tax is 10%\n"
     ]
    }
   ],
   "source": [
    "# Q2.\n",
    "p = int(input('Enter price of bike'))\n",
    "\n",
    "if p>100000:\n",
    "    print('Tax is 15%')\n",
    "elif p>50000:\n",
    "    print('Tax is 10%')\n",
    "else:\n",
    "    print('Tax is 5%')"
   ]
  },
  {
   "cell_type": "code",
   "execution_count": 7,
   "id": "281ff605-a91e-4811-98a7-a6db517809c0",
   "metadata": {},
   "outputs": [
    {
     "name": "stdin",
     "output_type": "stream",
     "text": [
      "Enter city Agra\n"
     ]
    },
    {
     "name": "stdout",
     "output_type": "stream",
     "text": [
      "Taj Mahal\n"
     ]
    }
   ],
   "source": [
    "# Q3\n",
    "city = input('Enter city')\n",
    "\n",
    "if city == 'Delhi':\n",
    "    print('Red Fort')\n",
    "elif city == 'Agra':\n",
    "    print('Taj Mahal')\n",
    "elif city == 'Jaipur':\n",
    "    print('Jal Mahal')\n",
    "else:\n",
    "    print('Invalid city')"
   ]
  },
  {
   "cell_type": "code",
   "execution_count": null,
   "id": "2e13f595-1ced-407f-b4a5-324a65dbe43d",
   "metadata": {},
   "outputs": [
    {
     "name": "stdin",
     "output_type": "stream",
     "text": [
      "Enter a number 90\n"
     ]
    }
   ],
   "source": [
    "# Q4.\n",
    "n = int(input('Enter a number'))\n",
    "count = 0\n",
    "if n%3==0:\n",
    "    while (n/3)>=10:\n",
    "        count+=1\n",
    "        if (n/3)>=10==0:\n",
    "            if (n/3)%3==0:\n",
    "                count+=1\n",
    "    "
   ]
  },
  {
   "cell_type": "code",
   "execution_count": null,
   "id": "f1896ccf-c1f1-4247-b367-773c04fb5650",
   "metadata": {},
   "outputs": [],
   "source": [
    "# Q7.\n",
    "i = 10\n",
    "\n",
    "while i>=1:\n",
    "    print(i)\n",
    "    i-=1"
   ]
  },
  {
   "cell_type": "code",
   "execution_count": null,
   "id": "79187335-b953-428a-86fc-1554eacc75f2",
   "metadata": {},
   "outputs": [],
   "source": []
  }
 ],
 "metadata": {
  "kernelspec": {
   "display_name": "Python 3 (ipykernel)",
   "language": "python",
   "name": "python3"
  },
  "language_info": {
   "codemirror_mode": {
    "name": "ipython",
    "version": 3
   },
   "file_extension": ".py",
   "mimetype": "text/x-python",
   "name": "python",
   "nbconvert_exporter": "python",
   "pygments_lexer": "ipython3",
   "version": "3.10.8"
  }
 },
 "nbformat": 4,
 "nbformat_minor": 5
}
